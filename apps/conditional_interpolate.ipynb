{
 "cells": [
  {
   "cell_type": "code",
   "execution_count": 1,
   "metadata": {},
   "outputs": [
    {
     "name": "stdout",
     "output_type": "stream",
     "text": [
      "set random seed to 2021\n",
      "/usr/local/python3/lib/python3.6/site-packages/mmcv/cnn/bricks/conv_module.py:151: UserWarning: Unnecessary conv bias before batch/instance norm\n",
      "  'Unnecessary conv bias before batch/instance norm')\n",
      "load checkpoint from local path: /home/ivms/net_disk_project/19045845/dataclean/mmgeneration/result_biggan_torch-sn_128x128_b32x8_1500k/best_is_iter_80000.pth\n",
      "2022-07-01 10:52:10,442 - mmgen - INFO - Sampling model: ema\n",
      "2022-07-01 10:52:10,442 - mmgen - INFO - Show mode: sequence\n",
      "2022-07-01 10:52:10,442 - mmgen - INFO - Samples path: /home/ivms/net_disk_project/19045845/dataclean/mmgeneration/result_biggan_torch-sn_128x128_b32x8_1500k/images/\n"
     ]
    }
   ],
   "source": [
    "!python conditional_interpolate.py \\\n",
    "        /home/ivms/net_disk_project/19045845/dataclean/mmgeneration/result_biggan_torch-sn_128x128_b32x8_1500k/biggan_torch-sn_128x128_b32x8_1500k.py \\\n",
    "        /home/ivms/net_disk_project/19045845/dataclean/mmgeneration/result_biggan_torch-sn_128x128_b32x8_1500k/best_is_iter_80000.pth \\\n",
    "        --endpoint 8 \\\n",
    "        --fix-y \\\n",
    "        --samples-path /home/ivms/net_disk_project/19045845/dataclean/mmgeneration/result_biggan_torch-sn_128x128_b32x8_1500k/images/"
   ]
  },
  {
   "cell_type": "markdown",
   "metadata": {},
   "source": [
    "## 图像变GIF动图"
   ]
  },
  {
   "cell_type": "code",
   "execution_count": 3,
   "metadata": {},
   "outputs": [
    {
     "name": "stderr",
     "output_type": "stream",
     "text": [
      "100%|██████████| 71/71 [00:00<00:00, 140.72it/s]\n"
     ]
    }
   ],
   "source": [
    "import os\n",
    "import cv2\n",
    "import numpy as np\n",
    "import glob\n",
    "from tqdm import tqdm\n",
    "\n",
    "import imageio \n",
    "\n",
    "path = '/home/ivms/net_disk_project/19045845/dataclean/mmgeneration/result_biggan_torch-sn_128x128_b32x8_1500k/images'\n",
    "img_array = []\n",
    "for filename in tqdm(os.listdir(path)):\n",
    "    try:\n",
    "        img = cv2.imread(os.path.join(path,filename))\n",
    "        height, width, layers = img.shape\n",
    "        size = (width,height)\n",
    "        img_array.append(img)\n",
    "    except:\n",
    "        pass\n",
    "\n",
    "    \n",
    "imageio.mimsave('/home/ivms/net_disk_project/19045845/dataclean/mmgeneration/result_biggan_torch-sn_128x128_b32x8_1500k/1.gif', img_array, 'GIF', duration=0.1) \n",
    "\n",
    "# out = cv2.VideoWriter('../D2.mp4',cv2.VideoWriter_fourcc(*'mp4v'), 15, size)\n",
    "\n",
    "# for i in range(len(img_array)):\n",
    "#     out.write(img_array[i])\n",
    "# out.release()\n"
   ]
  },
  {
   "cell_type": "code",
   "execution_count": null,
   "metadata": {},
   "outputs": [],
   "source": []
  }
 ],
 "metadata": {
  "kernelspec": {
   "display_name": "Python 3",
   "language": "python",
   "name": "python3"
  },
  "language_info": {
   "codemirror_mode": {
    "name": "ipython",
    "version": 3
   },
   "file_extension": ".py",
   "mimetype": "text/x-python",
   "name": "python",
   "nbconvert_exporter": "python",
   "pygments_lexer": "ipython3",
   "version": "3.6.6"
  }
 },
 "nbformat": 4,
 "nbformat_minor": 2
}
