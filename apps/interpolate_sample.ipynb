{
 "cells": [
  {
   "cell_type": "markdown",
   "metadata": {},
   "source": [
    "# 预训练Unconditional GAN模型生成图像插值视频\n",
    "\n",
    "在 MMGeneration 中调用 Unconditional GAN（非条件生成对抗网络）预训练模型，生成若干张图像的平滑插值过渡视频\n"
   ]
  },
  {
   "cell_type": "code",
   "execution_count": 2,
   "metadata": {},
   "outputs": [
    {
     "name": "stdout",
     "output_type": "stream",
     "text": [
      "set random seed to 2021\n",
      "load checkpoint from local path: /home/ivms/net_disk_project/19045845/dataclean/mmgeneration/result_stylegan2_c2_ada_256_b4x8_30k/best_fid_iter_28000.pth\n",
      "2022-07-01 10:38:53,429 - mmgen - INFO - Sampling model: ema\n",
      "2022-07-01 10:38:53,429 - mmgen - INFO - Show mode: sequence\n",
      "2022-07-01 10:38:53,430 - mmgen - INFO - Samples path: /home/ivms/net_disk_project/19045845/dataclean/mmgeneration/result_stylegan2_c2_ada_256_b4x8_30k\n",
      "2022-07-01 10:38:53,430 - mmgen - INFO - Switch to evaluation style mode: single\n"
     ]
    }
   ],
   "source": [
    "!python interpolate_sample.py \\\n",
    "        /home/ivms/net_disk_project/19045845/dataclean/mmgeneration/result_stylegan2_c2_ada_256_b4x8_30k/stylegan2_c2_ada_256_b4x8_30k.py \\\n",
    "        /home/ivms/net_disk_project/19045845/dataclean/mmgeneration/result_stylegan2_c2_ada_256_b4x8_30k/best_fid_iter_28000.pth \\\n",
    "        --export-video \\\n",
    "        --samples-path /home/ivms/net_disk_project/19045845/dataclean/mmgeneration/result_stylegan2_c2_ada_256_b4x8_30k \\\n",
    "        --interval 150 \\\n",
    "        --endpoint 7 \\\n",
    "        --space w \\\n",
    "        --sample-cfg randomize_noise=False"
   ]
  },
  {
   "cell_type": "code",
   "execution_count": 2,
   "metadata": {},
   "outputs": [
    {
     "name": "stdout",
     "output_type": "stream",
     "text": [
      "set random seed to 2021\n",
      "load checkpoint from local path: /home/ivms/net_disk_project/19045845/dataclean/mmgeneration/result_stylegan2_c2_ada_256_b4x8_30k_mccde/best_fid_iter_29000.pth\n",
      "2022-07-06 09:33:42,452 - mmgen - INFO - Sampling model: ema\n",
      "2022-07-06 09:33:42,452 - mmgen - INFO - Show mode: sequence\n",
      "2022-07-06 09:33:42,452 - mmgen - INFO - Samples path: /home/ivms/net_disk_project/19045845/dataclean/mmgeneration/result_stylegan2_c2_ada_256_b4x8_30k_mccde\n",
      "2022-07-06 09:33:42,452 - mmgen - INFO - Switch to evaluation style mode: single\n"
     ]
    }
   ],
   "source": [
    "!python interpolate_sample.py \\\n",
    "        /home/ivms/net_disk_project/19045845/dataclean/mmgeneration/result_stylegan2_c2_ada_256_b4x8_30k_mccde/stylegan2_c2_ada_256_b4x8_30k.py \\\n",
    "        /home/ivms/net_disk_project/19045845/dataclean/mmgeneration/result_stylegan2_c2_ada_256_b4x8_30k_mccde/best_fid_iter_29000.pth \\\n",
    "        --export-video \\\n",
    "        --samples-path /home/ivms/net_disk_project/19045845/dataclean/mmgeneration/result_stylegan2_c2_ada_256_b4x8_30k_mccde \\\n",
    "        --interval 150 \\\n",
    "        --endpoint 10 \\\n",
    "        --space w \\\n",
    "        --sample-cfg randomize_noise=False"
   ]
  },
  {
   "cell_type": "code",
   "execution_count": 3,
   "metadata": {},
   "outputs": [
    {
     "name": "stdout",
     "output_type": "stream",
     "text": [
      "set random seed to 2021\n",
      "load checkpoint from local path: /home/ivms/net_disk_project/19045845/dataclean/mmgeneration/result_stylegan2_c2_ada_256_b4x8_30k_mcb/ckpt/result_stylegan2_c2_ada_256_b4x8_30k_mcb/iter_30000.pth\n",
      "2022-07-06 09:47:08,108 - mmgen - INFO - Sampling model: ema\n",
      "2022-07-06 09:47:08,108 - mmgen - INFO - Show mode: sequence\n",
      "2022-07-06 09:47:08,108 - mmgen - INFO - Samples path: /home/ivms/net_disk_project/19045845/dataclean/mmgeneration/result_stylegan2_c2_ada_256_b4x8_30k_mcb\n",
      "2022-07-06 09:47:08,108 - mmgen - INFO - Switch to evaluation style mode: single\n"
     ]
    }
   ],
   "source": [
    "!python interpolate_sample.py \\\n",
    "        /home/ivms/net_disk_project/19045845/dataclean/mmgeneration/result_stylegan2_c2_ada_256_b4x8_30k_mcb/stylegan2_c2_ada_256_b4x8_30k.py \\\n",
    "        /home/ivms/net_disk_project/19045845/dataclean/mmgeneration/result_stylegan2_c2_ada_256_b4x8_30k_mcb/ckpt/result_stylegan2_c2_ada_256_b4x8_30k_mcb/iter_30000.pth \\\n",
    "        --export-video \\\n",
    "        --samples-path /home/ivms/net_disk_project/19045845/dataclean/mmgeneration/result_stylegan2_c2_ada_256_b4x8_30k_mcb \\\n",
    "        --interval 150 \\\n",
    "        --endpoint 10 \\\n",
    "        --space w \\\n",
    "        --sample-cfg randomize_noise=False"
   ]
  },
  {
   "cell_type": "code",
   "execution_count": null,
   "metadata": {},
   "outputs": [],
   "source": []
  }
 ],
 "metadata": {
  "kernelspec": {
   "display_name": "Python 3",
   "language": "python",
   "name": "python3"
  },
  "language_info": {
   "codemirror_mode": {
    "name": "ipython",
    "version": 3
   },
   "file_extension": ".py",
   "mimetype": "text/x-python",
   "name": "python",
   "nbconvert_exporter": "python",
   "pygments_lexer": "ipython3",
   "version": "3.6.6"
  }
 },
 "nbformat": 4,
 "nbformat_minor": 2
}
