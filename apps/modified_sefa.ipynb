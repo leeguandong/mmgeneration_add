{
 "cells": [
  {
   "cell_type": "markdown",
   "metadata": {},
   "source": [
    "i 头发颜色变化\n",
    "\n",
    "d 变化程度\n",
    "\n",
    "l 修改前几层的latent"
   ]
  },
  {
   "cell_type": "code",
   "execution_count": 1,
   "metadata": {},
   "outputs": [
    {
     "name": "stdout",
     "output_type": "stream",
     "text": [
      "2022-07-06 14:19:35,545 - mmgen - INFO - Building models and loading checkpoints\n",
      "2022-07-06 14:19:36,927 - mmgen - INFO - Switch to evaluation style mode: single\n",
      "2022-07-06 14:19:36,928 - mmgen - INFO - Switch to evaluation style mode: single\n",
      "load checkpoint from local path: /home/ivms/net_disk_project/19045845/weights/stylegan2_c2_ffhq_256_b4x8_20210407_160709-7890ae1f.pth\n",
      "2022-07-06 14:19:46,780 - mmgen - INFO - Calculating or loading eigen vectors\n",
      "2022-07-06 14:19:47,043 - mmgen - INFO - Sampling images with modified SeFa\n",
      "2022-07-06 14:19:52,215 - mmgen - INFO - Save images to /home/ivms/local_disk/mmgeneration_add/apps/results//entangle-i15-d[8.0]-t0.5-l[8, 9]_002022.png\n"
     ]
    }
   ],
   "source": [
    "!python modified_sefa.py \\\n",
    "    /home/ivms/local_disk/mmgeneration_add/configs/styleganv2/stylegan2_c2_256_b4x8_800k.py \\\n",
    "    /home/ivms/net_disk_project/19045845/weights/stylegan2_c2_ffhq_256_b4x8_20210407_160709-7890ae1f.pth \\\n",
    "    -i 15 \\\n",
    "    -d 8. \\\n",
    "    --degree-step 0.5 \\\n",
    "    -l 8 9 \\\n",
    "    --random-seed 2022 \\\n",
    "    --sample-path /home/ivms/local_disk/mmgeneration_add/apps/results/ \\\n",
    "    --sample-cfg randomize_noise=False"
   ]
  },
  {
   "cell_type": "code",
   "execution_count": null,
   "metadata": {},
   "outputs": [],
   "source": []
  }
 ],
 "metadata": {
  "kernelspec": {
   "display_name": "Python 3",
   "language": "python",
   "name": "python3"
  },
  "language_info": {
   "codemirror_mode": {
    "name": "ipython",
    "version": 3
   },
   "file_extension": ".py",
   "mimetype": "text/x-python",
   "name": "python",
   "nbconvert_exporter": "python",
   "pygments_lexer": "ipython3",
   "version": "3.6.6"
  }
 },
 "nbformat": 4,
 "nbformat_minor": 2
}
