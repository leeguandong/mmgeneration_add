{
 "cells": [
  {
   "cell_type": "code",
   "execution_count": 1,
   "metadata": {},
   "outputs": [
    {
     "name": "stdout",
     "output_type": "stream",
     "text": [
      "/home/ivms/local_disk/mmgeneration_add/apps/clip/clip.py:24: UserWarning: PyTorch version 1.7.1 or higher is recommended\n",
      "  warnings.warn(\"PyTorch version 1.7.1 or higher is recommended\")\n",
      "set random seed to 2021\n",
      "load checkpoint from local path: /home/ivms/net_disk_project/19045845/weights/stylegan2_c2_ffhq_256_b4x8_20210407_160709-7890ae1f.pth\n",
      "2022-07-06 11:11:10,134 - mmgen - INFO - Switch to evaluation style mode: single\n",
      "2022-07-06 11:11:10,135 - mmgen - INFO - Switch to evaluation style mode: single\n",
      "2022-07-06 11:11:19,390 - mmgen - INFO - Loading ResNet ArcFace\n",
      "  0%|                                                   | 0/120 [00:00<?, ?it/s]Description: a girl with purple hair\n",
      "loss: 0.5244;: 100%|██████████████████████████| 120/120 [00:16<00:00,  7.33it/s]\n"
     ]
    }
   ],
   "source": [
    "!python styleclip.py \\\n",
    "        /home/ivms/local_disk/mmgeneration_add/configs/styleganv2/stylegan2_c2_256_b4x8_800k.py \\\n",
    "        /home/ivms/net_disk_project/19045845/weights/stylegan2_c2_ffhq_256_b4x8_20210407_160709-7890ae1f.pth \\\n",
    "        --description 'a girl with purple hair' \\\n",
    "        --step 120 \\\n",
    "        --results-dir /home/ivms/local_disk/mmgeneration_add/apps/results"
   ]
  },
  {
   "cell_type": "markdown",
   "metadata": {},
   "source": [
    "## 图像变动图"
   ]
  },
  {
   "cell_type": "code",
   "execution_count": 4,
   "metadata": {},
   "outputs": [
    {
     "name": "stderr",
     "output_type": "stream",
     "text": [
      "100%|██████████| 8/8 [00:00<00:00, 528.92it/s]\n"
     ]
    }
   ],
   "source": [
    "import cv2\n",
    "import os\n",
    "import numpy as np\n",
    "import glob\n",
    "from tqdm import tqdm\n",
    "\n",
    "imgs_path = '/home/ivms/local_disk/mmgeneration_add/apps/results'\n",
    "\n",
    "\n",
    "img_array = []\n",
    "for filename in tqdm(os.listdir(imgs_path)):\n",
    "    try:\n",
    "        if filename == 'final_result.png':\n",
    "            continue\n",
    "        img = cv2.imread(os.path.join(imgs_path,filename))\n",
    "        height, width, layers = img.shape\n",
    "        size = (width,height)\n",
    "        img_array.append(img)\n",
    "    except:\n",
    "        pass\n",
    "\n",
    "topic = imgs_path.split('/')[-1]\n",
    "out = cv2.VideoWriter('results/text2img_{}.mp4'.format(topic), cv2.VideoWriter_fourcc(*'mp4v'), 15, size)\n",
    " \n",
    "for i in range(len(img_array)):\n",
    "    out.write(img_array[i])\n",
    "out.release()\n"
   ]
  },
  {
   "cell_type": "code",
   "execution_count": null,
   "metadata": {},
   "outputs": [],
   "source": []
  }
 ],
 "metadata": {
  "kernelspec": {
   "display_name": "Python 3",
   "language": "python",
   "name": "python3"
  },
  "language_info": {
   "codemirror_mode": {
    "name": "ipython",
    "version": 3
   },
   "file_extension": ".py",
   "mimetype": "text/x-python",
   "name": "python",
   "nbconvert_exporter": "python",
   "pygments_lexer": "ipython3",
   "version": "3.6.6"
  }
 },
 "nbformat": 4,
 "nbformat_minor": 2
}
