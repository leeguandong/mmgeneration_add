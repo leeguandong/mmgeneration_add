{
 "cells": [
  {
   "cell_type": "code",
   "execution_count": 2,
   "metadata": {},
   "outputs": [
    {
     "name": "stdout",
     "output_type": "stream",
     "text": [
      "Traceback (most recent call last):\n",
      "  File \"stylegan_projector.py\", line 295, in <module>\n",
      "    main()\n",
      "  File \"stylegan_projector.py\", line 153, in main\n",
      "    cfg = Config.fromfile(args.config)\n",
      "  File \"/usr/local/python3/lib/python3.6/site-packages/mmcv/utils/config.py\", line 335, in fromfile\n",
      "    use_predefined_variables)\n",
      "  File \"/usr/local/python3/lib/python3.6/site-packages/mmcv/utils/config.py\", line 180, in _file2dict\n",
      "    filename = osp.abspath(osp.expanduser(filename))\n",
      "  File \"/usr/local/python3/lib/python3.6/posixpath.py\", line 235, in expanduser\n",
      "    path = os.fspath(path)\n",
      "TypeError: expected str, bytes or os.PathLike object, not NoneType\n"
     ]
    }
   ],
   "source": [
    "!python stylegan_projector.py \\\n",
    "        /home/ivms/local_disk/mmgeneration_add/configs/styleganv2/stylegan2_c2_256_b4x8_800k.py \\\n",
    "        /home/ivms/net_disk_project/19045845/weights/stylegan2_c2_ffhq_256_b4x8_20210407_160709-7890ae1f.pth \\\n",
    "        /home/ivms/local_disk/mmgeneration_add/apps/results/zjd.png \\\n",
    "        /home/ivms/local_disk/mmgeneration_add/apps/results/xujiayin.jpg \\\n",
    "        --total-iters 1000 \\\n",
    "        --results-path results/"
   ]
  },
  {
   "cell_type": "code",
   "execution_count": null,
   "metadata": {},
   "outputs": [],
   "source": []
  }
 ],
 "metadata": {
  "kernelspec": {
   "display_name": "Python 3",
   "language": "python",
   "name": "python3"
  },
  "language_info": {
   "codemirror_mode": {
    "name": "ipython",
    "version": 3
   },
   "file_extension": ".py",
   "mimetype": "text/x-python",
   "name": "python",
   "nbconvert_exporter": "python",
   "pygments_lexer": "ipython3",
   "version": "3.6.6"
  }
 },
 "nbformat": 4,
 "nbformat_minor": 2
}
