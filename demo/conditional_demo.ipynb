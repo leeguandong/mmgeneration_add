{
 "cells": [
  {
   "cell_type": "markdown",
   "metadata": {},
   "source": [
    "# 预训练Conditional GAN模型生成图像\n",
    "\n",
    "在 MMgeneration 中调用 Conditional GAN（条件生成对抗网络）预训练模型，生成若干张图像并展示\n"
   ]
  },
  {
   "cell_type": "code",
   "execution_count": 3,
   "metadata": {},
   "outputs": [
    {
     "name": "stdout",
     "output_type": "stream",
     "text": [
      "/usr/local/python3/lib/python3.6/site-packages/mmcv/cnn/bricks/conv_module.py:151: UserWarning: Unnecessary conv bias before batch/instance norm\n",
      "  'Unnecessary conv bias before batch/instance norm')\n",
      "load checkpoint from local path: /home/ivms/net_disk_project/19045845/dataclean/mmgeneration/result_biggan_torch-sn_128x128_b32x8_1500k/best_is_iter_80000.pth\n",
      "2022-07-01 10:51:08,793 - mmgen - INFO - Set `nrows` as number of samples for each class (=6).\n"
     ]
    }
   ],
   "source": [
    "!python conditional_demo.py \\\n",
    "        /home/ivms/net_disk_project/19045845/dataclean/mmgeneration/result_biggan_torch-sn_128x128_b32x8_1500k/biggan_torch-sn_128x128_b32x8_1500k.py \\\n",
    "        /home/ivms/net_disk_project/19045845/dataclean/mmgeneration/result_biggan_torch-sn_128x128_b32x8_1500k/best_is_iter_80000.pth \\\n",
    "        --label 0 1 2 \\\n",
    "        --samples-per-classes 6 \\\n",
    "        --save-path /home/ivms/net_disk_project/19045845/dataclean/mmgeneration/result_biggan_torch-sn_128x128_b32x8_1500k/D1_biggan_1.jpg \\\n",
    "        --device cuda:1"
   ]
  },
  {
   "cell_type": "markdown",
   "metadata": {},
   "source": [
    "###### Python API 调用方式"
   ]
  },
  {
   "cell_type": "code",
   "execution_count": 3,
   "metadata": {},
   "outputs": [],
   "source": [
    "# 导入mmcv和mmgeneration\n",
    "import mmcv\n",
    "from mmgen.apis import init_model, sample_conditional_model\n",
    "\n",
    "# 导入numpy和matplotlib\n",
    "import numpy as np\n",
    "import matplotlib.pyplot as plt\n",
    "%matplotlib inline"
   ]
  },
  {
   "cell_type": "code",
   "execution_count": 2,
   "metadata": {},
   "outputs": [],
   "source": [
    "# 指定config文件路径\n",
    "config_file = '/home/ivms/net_disk_project/19045845/dataclean/mmgeneration/result_biggan_torch-sn_128x128_b32x8_1500k/biggan_torch-sn_128x128_b32x8_1500k.py'\n",
    "\n",
    "# 指定预训练模型权重文件路径\n",
    "checkpoint_file = '/home/ivms/net_disk_project/19045845/dataclean/mmgeneration/result_biggan_torch-sn_128x128_b32x8_1500k/best_is_iter_80000.pth'\n",
    "\n",
    "img_size = 256"
   ]
  },
  {
   "cell_type": "code",
   "execution_count": null,
   "metadata": {},
   "outputs": [],
   "source": [
    "# 初始化模型\n",
    "model = init_model(config_file, checkpoint_file, device='cuda:0')"
   ]
  },
  {
   "cell_type": "code",
   "execution_count": null,
   "metadata": {},
   "outputs": [],
   "source": [
    "# 不指定 label，默认为 None\n",
    "# fake_imgs = sample_conditional_model(model, 64) \n",
    "\n",
    "# 生成 label 都为 0 的 4 张图像\n",
    "# n = 2\n",
    "# fake_imgs = sample_conditional_model(model, 4, label=[0,0,0,0])\n",
    "\n",
    "# 生成 label 分别为 0、1、2、3 的4张图像\n",
    "# fake_imgs = sample_conditional_model(model, 4, label=[0, 1, 2, 3]) \n",
    "\n",
    "# 生成 n*n 张 label都为 248 的图像\n",
    "n = 8\n",
    "fake_imgs = sample_conditional_model(model, n*n, label=[620]*n*n)"
   ]
  },
  {
   "cell_type": "markdown",
   "metadata": {},
   "source": [
    "## 展示单张图片"
   ]
  },
  {
   "cell_type": "code",
   "execution_count": null,
   "metadata": {},
   "outputs": [],
   "source": [
    "# 将torch张量转为numpy的array\n",
    "fake_imgs = fake_imgs.numpy()"
   ]
  },
  {
   "cell_type": "code",
   "execution_count": null,
   "metadata": {},
   "outputs": [],
   "source": [
    "fake_imgs.shape"
   ]
  },
  {
   "cell_type": "code",
   "execution_count": null,
   "metadata": {},
   "outputs": [],
   "source": [
    "# 选择要展示的图片索引号\n",
    "index = 4\n",
    "\n",
    "# 分别抽取RGB三通道图像，归一化为0-255的uint8自然图像\n",
    "RGB = np.zeros((img_size,img_size,3))\n",
    "RGB[:,:,0] = fake_imgs[index][2]\n",
    "RGB[:,:,1] = fake_imgs[index][1]\n",
    "RGB[:,:,2] = fake_imgs[index][0]\n",
    "\n",
    "RGB = 255 * (RGB - RGB.min()) / (RGB.max()-RGB.min())\n",
    "RGB = RGB.astype('uint8')\n",
    "plt.imshow(RGB)\n",
    "plt.show()"
   ]
  },
  {
   "cell_type": "markdown",
   "metadata": {},
   "source": [
    "## n行n列展示生成的图像"
   ]
  },
  {
   "cell_type": "code",
   "execution_count": null,
   "metadata": {},
   "outputs": [],
   "source": [
    "def show_fake_img_rgb(index):\n",
    "    '''输入索引号，展示对应的图像'''\n",
    "\n",
    "    # 分别抽取RGB三通道图像\n",
    "    RGB = np.zeros((img_size,img_size,3))\n",
    "    RGB[:,:,0] = fake_imgs[index][2]\n",
    "    RGB[:,:,1] = fake_imgs[index][1]\n",
    "    RGB[:,:,2] = fake_imgs[index][0]\n",
    "    \n",
    "    # 归一化为0-255的uint8自然图像\n",
    "    RGB = 255 * (RGB - RGB.min()) / (RGB.max()-RGB.min())\n",
    "    RGB = RGB.astype('uint8')\n",
    "    return RGB"
   ]
  },
  {
   "cell_type": "code",
   "execution_count": null,
   "metadata": {},
   "outputs": [],
   "source": [
    "fig, axes = plt.subplots(nrows=n, ncols=n, sharex=True,figsize=(20,20))\n",
    "for i in range(n*n):\n",
    "    axes[i//n, i%n].imshow(show_fake_img_rgb(i))\n",
    "    axes[i//n, i%n].axis('off') # 关闭坐标轴显示\n",
    "fig.suptitle('mmgeneration demo', fontsize=50)\n",
    "plt.show()"
   ]
  }
 ],
 "metadata": {
  "kernelspec": {
   "display_name": "Python 3",
   "language": "python",
   "name": "python3"
  },
  "language_info": {
   "codemirror_mode": {
    "name": "ipython",
    "version": 3
   },
   "file_extension": ".py",
   "mimetype": "text/x-python",
   "name": "python",
   "nbconvert_exporter": "python",
   "pygments_lexer": "ipython3",
   "version": "3.6.6"
  }
 },
 "nbformat": 4,
 "nbformat_minor": 2
}
